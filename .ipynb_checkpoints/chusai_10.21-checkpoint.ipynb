{
 "cells": [
  {
   "cell_type": "code",
   "execution_count": 4,
   "metadata": {},
   "outputs": [
    {
     "name": "stderr",
     "output_type": "stream",
     "text": [
      "D:\\02_Tools\\Anaconda3\\lib\\site-packages\\sklearn\\cross_validation.py:41: DeprecationWarning: This module was deprecated in version 0.18 in favor of the model_selection module into which all the refactored classes and functions are moved. Also note that the interface of the new CV iterators are different from that of this module. This module will be removed in 0.20.\n",
      "  \"This module will be removed in 0.20.\", DeprecationWarning)\n"
     ]
    }
   ],
   "source": [
    "#coding=utf-8\n",
    "import time\n",
    "import datetime\n",
    "import numpy as np\n",
    "import pandas as pd\n",
    "import lightgbm as lgb\n",
    "from dateutil.parser import parse\n",
    "from sklearn.cross_validation import KFold\n",
    "from sklearn.metrics import mean_squared_error\n",
    "from dateutil.parser import parse"
   ]
  },
  {
   "cell_type": "code",
   "execution_count": 5,
   "metadata": {},
   "outputs": [],
   "source": [
    "def change(name):\n",
    "    df = pd.read_csv(name,encoding='gb2312')\n",
    "    index = ['尿素','*r-谷氨酰基转换酶','尿酸','*碱性磷酸酶','红细胞计数','血小板计数','血小板比积',\n",
    "         '嗜酸细胞%','红细胞平均体积','红细胞体积分布宽度','红细胞平均血红蛋白浓度']\n",
    "    for i in index:\n",
    "        # index.remove(i)\n",
    "        for j in index:\n",
    "            if i == j:\n",
    "                continue\n",
    "            else:\n",
    "                df['{}/{}'.format(i,j)] = df[i]/df[j]\n",
    "    return df"
   ]
  },
  {
   "cell_type": "code",
   "execution_count": 6,
   "metadata": {},
   "outputs": [
    {
     "name": "stdout",
     "output_type": "stream",
     "text": [
      "(5642, 152)\n",
      "(6642, 152)\n"
     ]
    }
   ],
   "source": [
    "df1 = change('d_train_20180102.csv')\n",
    "print(df1.shape)\n",
    "df1.to_csv('train_change.csv', index=False)\n",
    "\n",
    "df2 = change('d_test_A_20180102.csv')\n",
    "df2.to_csv('test_change.csv', index=False)\n",
    "\n",
    "df3 = change('d_test_B_20180128.csv')\n",
    "df3.to_csv('test_change_B.csv', index=False)\n",
    "\n",
    "df4 = change('d_train_20180102_add.csv')\n",
    "print(df4.shape)\n",
    "df4.to_csv('train_change_add.csv', index=False)"
   ]
  },
  {
   "cell_type": "code",
   "execution_count": 7,
   "metadata": {},
   "outputs": [],
   "source": [
    "train = pd.read_csv('train_change_add.csv')\n",
    "test = pd.read_csv('test_change_B.csv')"
   ]
  },
  {
   "cell_type": "code",
   "execution_count": 8,
   "metadata": {
    "scrolled": true
   },
   "outputs": [],
   "source": [
    "# ol = pd.read_csv('d_answer_b_20180130.csv', encoding='utf-8')"
   ]
  },
  {
   "cell_type": "code",
   "execution_count": 9,
   "metadata": {},
   "outputs": [],
   "source": [
    "# train.sort_index(by=['血糖'])\n",
    "# train = train.loc[train['血糖']<36]\n",
    "traincopy = train.copy()\n",
    "testcopy = test.copy()\n",
    "train[\"血糖\"] = np.log1p(train[\"血糖\"]) #先对血糖进行log（x+1）处理"
   ]
  },
  {
   "cell_type": "code",
   "execution_count": 10,
   "metadata": {},
   "outputs": [],
   "source": [
    "# train_over_zero = train.loc[train['血糖']>=0]\n",
    "# train_under_zero = train.loc[train['血糖']<0]\n",
    "\n",
    "def make_feat(train, test):\n",
    "    train_id = train.id.values.copy()\n",
    "    test_id = test.id.values.copy()\n",
    "    data = pd.concat([train, test])\n",
    "\n",
    "    data['性别'] = data['性别'].map({'男': 1, '女': 0})\n",
    "    data['体检日期'] = (pd.to_datetime(data['体检日期']) - parse('2017-10-09')).dt.days\n",
    "\n",
    "    data.fillna(data.mean(axis=0), inplace=True)\n",
    "\n",
    "    train_feat = data[data.id.isin(train_id)]\n",
    "    test_feat = data[data.id.isin(test_id)]\n",
    "\n",
    "    return train_feat, test_feat"
   ]
  },
  {
   "cell_type": "code",
   "execution_count": 11,
   "metadata": {},
   "outputs": [
    {
     "name": "stderr",
     "output_type": "stream",
     "text": [
      "D:\\02_Tools\\Anaconda3\\lib\\site-packages\\ipykernel_launcher.py:7: FutureWarning: Sorting because non-concatenation axis is not aligned. A future version\n",
      "of pandas will change to not sort by default.\n",
      "\n",
      "To accept the future behavior, pass 'sort=False'.\n",
      "\n",
      "To retain the current behavior and silence the warning, pass 'sort=True'.\n",
      "\n",
      "  import sys\n"
     ]
    }
   ],
   "source": [
    "train_feat, test_feat = make_feat(train, test)\n",
    "# train_feat_over, test_feat_over = make_feat(train_over_zero, test)\n",
    "# train_feat_under, test_feat_under = make_feat(train_under_zero, test)\n",
    "train_feat_copy, test_feat_copy = make_feat(traincopy, testcopy)"
   ]
  },
  {
   "cell_type": "code",
   "execution_count": 12,
   "metadata": {},
   "outputs": [],
   "source": [
    "train_feat.drop(['id'], axis=1, inplace=True)\n",
    "test_feat.drop(['id'], axis=1, inplace=True)\n",
    "\n",
    "# test_feat.drop(['体检日期' , '乙肝表面抗原' ,  '乙肝e抗原' , '乙肝e抗体'\n",
    "#                   , '乙肝核心抗体'], axis=1, inplace=True)"
   ]
  },
  {
   "cell_type": "code",
   "execution_count": 13,
   "metadata": {},
   "outputs": [],
   "source": [
    "predictors = [f for f in test_feat.columns if f not in ['血糖']]\n"
   ]
  },
  {
   "cell_type": "code",
   "execution_count": 14,
   "metadata": {},
   "outputs": [],
   "source": [
    "def evalerror(pred, df):\n",
    "    label = df.get_label().values.copy()\n",
    "    score = mean_squared_error(label, pred) * 0.5\n",
    "    return ('0.5mse', score, False)"
   ]
  },
  {
   "cell_type": "code",
   "execution_count": 15,
   "metadata": {},
   "outputs": [
    {
     "name": "stdout",
     "output_type": "stream",
     "text": [
      "开始训练...\n"
     ]
    }
   ],
   "source": [
    "print('开始训练...')\n",
    "params = {\n",
    "    'learning_rate': 0.01,\n",
    "    'boosting_type': 'gbdt',\n",
    "    'objective': 'regression',\n",
    "    'metric': 'mse',\n",
    "    'sub_feature': 0.8,\n",
    "    'num_leaves': 60,\n",
    "    'colsample_bytree': 0.7,\n",
    "    'feature_fraction': 0.7,\n",
    "    'min_data': 100,\n",
    "    'min_hessian': 1,\n",
    "    'verbose': -1,\n",
    "}"
   ]
  },
  {
   "cell_type": "code",
   "execution_count": 16,
   "metadata": {},
   "outputs": [],
   "source": [
    "def lgb_train(train_feat,test_feat):\n",
    "    print('开始CV 5折训练...')\n",
    "    t0 = time.time()\n",
    "    train_preds = np.zeros(train_feat.shape[0])\n",
    "    test_preds = np.zeros((test_feat.shape[0], 5))\n",
    "    kf = KFold(len(train_feat), n_folds=5, shuffle=True, random_state=500)\n",
    "    for i, (train_index, test_index) in enumerate(kf):\n",
    "        print('第{}次训练...'.format(i))\n",
    "        train_feat1 = train_feat.iloc[train_index]\n",
    "        train_feat2 = train_feat.iloc[test_index]\n",
    "        # lgb_train1 = lgb.Dataset(train_feat1[predictors], train_feat1['血糖'], categorical_feature=['性别'])\n",
    "        # lgb_train2 = lgb.Dataset(train_feat2[predictors], train_feat2['血糖'])\n",
    "        # gbm = lgb.train(params,\n",
    "        #                 lgb_train1,\n",
    "        #                 num_boost_round=3000,\n",
    "        #                 valid_sets=lgb_train2,\n",
    "        #                 verbose_eval=None,\n",
    "        #                 feval=evalerror,\n",
    "        #                 early_stopping_rounds=110)\n",
    "\n",
    "        model_lgb = lgb.LGBMRegressor(objective='regression', num_leaves=8,\n",
    "                                      learning_rate=0.05, n_estimators=400,\n",
    "                                      max_bin=30, bagging_fraction=0.9,\n",
    "                                      bagging_freq=10, feature_fraction=0.5,\n",
    "                                      feature_fraction_seed=10, bagging_seed=10,\n",
    "                                      min_data_in_leaf=80, nthread=8,\n",
    "                                      min_sum_hessian_in_leaf=0.2)\n",
    "        gbm = model_lgb.fit(train_feat1[predictors], train_feat1['血糖'], categorical_feature=['性别'])\n",
    "        train_preds[test_index] += gbm.predict(train_feat2[predictors])\n",
    "        test_preds[:, i] = gbm.predict(test_feat[predictors])\n",
    "    return train_preds,test_preds"
   ]
  },
  {
   "cell_type": "code",
   "execution_count": 17,
   "metadata": {},
   "outputs": [
    {
     "name": "stdout",
     "output_type": "stream",
     "text": [
      "开始CV 5折训练...\n",
      "第0次训练...\n"
     ]
    },
    {
     "name": "stderr",
     "output_type": "stream",
     "text": [
      "D:\\02_Tools\\Anaconda3\\lib\\site-packages\\lightgbm\\basic.py:1188: UserWarning: categorical_feature in Dataset is overridden.\n",
      "New categorical_feature is ['性别']\n",
      "  'New categorical_feature is {}'.format(sorted(list(categorical_feature))))\n"
     ]
    },
    {
     "name": "stdout",
     "output_type": "stream",
     "text": [
      "第1次训练...\n"
     ]
    },
    {
     "name": "stderr",
     "output_type": "stream",
     "text": [
      "D:\\02_Tools\\Anaconda3\\lib\\site-packages\\lightgbm\\basic.py:1188: UserWarning: categorical_feature in Dataset is overridden.\n",
      "New categorical_feature is ['性别']\n",
      "  'New categorical_feature is {}'.format(sorted(list(categorical_feature))))\n"
     ]
    },
    {
     "name": "stdout",
     "output_type": "stream",
     "text": [
      "第2次训练...\n"
     ]
    },
    {
     "name": "stderr",
     "output_type": "stream",
     "text": [
      "D:\\02_Tools\\Anaconda3\\lib\\site-packages\\lightgbm\\basic.py:1188: UserWarning: categorical_feature in Dataset is overridden.\n",
      "New categorical_feature is ['性别']\n",
      "  'New categorical_feature is {}'.format(sorted(list(categorical_feature))))\n"
     ]
    },
    {
     "name": "stdout",
     "output_type": "stream",
     "text": [
      "第3次训练...\n"
     ]
    },
    {
     "name": "stderr",
     "output_type": "stream",
     "text": [
      "D:\\02_Tools\\Anaconda3\\lib\\site-packages\\lightgbm\\basic.py:1188: UserWarning: categorical_feature in Dataset is overridden.\n",
      "New categorical_feature is ['性别']\n",
      "  'New categorical_feature is {}'.format(sorted(list(categorical_feature))))\n"
     ]
    },
    {
     "name": "stdout",
     "output_type": "stream",
     "text": [
      "第4次训练...\n"
     ]
    },
    {
     "name": "stderr",
     "output_type": "stream",
     "text": [
      "D:\\02_Tools\\Anaconda3\\lib\\site-packages\\lightgbm\\basic.py:1188: UserWarning: categorical_feature in Dataset is overridden.\n",
      "New categorical_feature is ['性别']\n",
      "  'New categorical_feature is {}'.format(sorted(list(categorical_feature))))\n"
     ]
    }
   ],
   "source": [
    "train_preds,test_preds = lgb_train(train_feat,test_feat)\n",
    "train_preds = np.expm1(train_preds)\n",
    "test_preds = np.expm1(test_preds)  #血糖值回算：exp（x）-1"
   ]
  },
  {
   "cell_type": "code",
   "execution_count": 20,
   "metadata": {},
   "outputs": [],
   "source": [
    "#对预测值大于6.4的血糖进行后处理\n",
    "for i in range(len(train_preds)):\n",
    "    if train_preds[i] >= 6.4:\n",
    "        # train_preds[i] = ((train_preds[i]-6.4)*1.4)**1.26 +6.4\n",
    "        train_preds[i] = np.expm1((train_preds[i] - 6.4) * 0.8)*0.45 + train_preds[i]\n",
    "\n",
    "test_preds1 = test_preds.mean(axis=1)"
   ]
  },
  {
   "cell_type": "code",
   "execution_count": 22,
   "metadata": {},
   "outputs": [],
   "source": [
    "ol = pd.read_csv('d_answer_b_20180130.csv', encoding='gb2312')"
   ]
  },
  {
   "cell_type": "code",
   "execution_count": 23,
   "metadata": {},
   "outputs": [
    {
     "name": "stdout",
     "output_type": "stream",
     "text": [
      "线下得分：    924698.229727483\n",
      "线上得分：    0.6234388778898579\n"
     ]
    }
   ],
   "source": [
    "for i in range(len(test_preds1)):\n",
    "    if test_preds1[i] >= 6.4:\n",
    "        # test_preds1[i] = ((test_preds1[i]-6.4)*1.4)**1.26 + 6.4\n",
    "        test_preds1[i] = np.expm1((test_preds1[i] - 6.4) * 0.8)*0.45 + test_preds1[i]\n",
    "\n",
    "print('线下得分：    {}'.format(mean_squared_error(train_feat_copy['血糖'], train_preds) * 0.5))\n",
    "# print(test_preds1[5])\n",
    "# print('CV训练用时{}秒'.format(time.time() - t0))\n",
    "\n",
    "print('线上得分：    {}'.format(mean_squared_error(ol['血糖'], test_preds1) * 0.5))"
   ]
  },
  {
   "cell_type": "code",
   "execution_count": 24,
   "metadata": {},
   "outputs": [],
   "source": [
    "submission = pd.DataFrame({'pred': test_preds1})\n",
    "if mean_squared_error(train_feat_copy['血糖'], train_preds) * 0.5 < 1.2:\n",
    "    submission.to_csv(r'sub{}_{}.csv'.format(round(mean_squared_error(train_feat_copy['血糖'], train_preds) * 0.5,3),\n",
    "    datetime.datetime.now().strftime('%Y%m%d_%H%M%S')), header=None,index=False, float_format='%.4f')"
   ]
  },
  {
   "cell_type": "code",
   "execution_count": null,
   "metadata": {},
   "outputs": [],
   "source": [
    "# test\n"
   ]
  }
 ],
 "metadata": {
  "kernelspec": {
   "display_name": "Python 3",
   "language": "python",
   "name": "python3"
  },
  "language_info": {
   "codemirror_mode": {
    "name": "ipython",
    "version": 3
   },
   "file_extension": ".py",
   "mimetype": "text/x-python",
   "name": "python",
   "nbconvert_exporter": "python",
   "pygments_lexer": "ipython3",
   "version": "3.7.0"
  }
 },
 "nbformat": 4,
 "nbformat_minor": 2
}
