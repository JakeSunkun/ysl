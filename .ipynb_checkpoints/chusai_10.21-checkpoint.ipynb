{
 "cells": [
  {
   "cell_type": "code",
   "execution_count": 24,
   "metadata": {},
   "outputs": [],
   "source": [
    "from dateutil.parser import parse"
   ]
  },
  {
   "cell_type": "code",
   "execution_count": 25,
   "metadata": {},
   "outputs": [],
   "source": [
    "def change(name):\n",
    "    df = pd.read_csv(name,encoding='gb2312')\n",
    "    index = ['尿素','*r-谷氨酰基转换酶','尿酸','*碱性磷酸酶','红细胞计数','血小板计数','血小板比积',\n",
    "         '嗜酸细胞%','红细胞平均体积','红细胞体积分布宽度','红细胞平均血红蛋白浓度']\n",
    "    for i in index:\n",
    "        # index.remove(i)\n",
    "        for j in index:\n",
    "            if i == j:\n",
    "                continue\n",
    "            else:\n",
    "                df['{}/{}'.format(i,j)] = df[i]/df[j]\n",
    "    return df"
   ]
  },
  {
   "cell_type": "code",
   "execution_count": 26,
   "metadata": {},
   "outputs": [
    {
     "name": "stdout",
     "output_type": "stream",
     "text": [
      "(5642, 152)\n",
      "(6642, 152)\n"
     ]
    }
   ],
   "source": [
    "df1 = change('d_train_20180102.csv')\n",
    "print(df1.shape)\n",
    "df1.to_csv('train_change.csv', index=False)\n",
    "\n",
    "df2 = change('d_test_A_20180102.csv')\n",
    "df2.to_csv('test_change.csv', index=False)\n",
    "\n",
    "df3 = change('d_test_B_20180128.csv')\n",
    "df3.to_csv('test_change_B.csv', index=False)\n",
    "\n",
    "df4 = change('d_train_20180102_add.csv')\n",
    "print(df4.shape)\n",
    "df4.to_csv('train_change_add.csv', index=False)"
   ]
  },
  {
   "cell_type": "code",
   "execution_count": 23,
   "metadata": {},
   "outputs": [],
   "source": [
    "#coding=utf-8\n",
    "import time\n",
    "import datetime\n",
    "import numpy as np\n",
    "import pandas as pd\n",
    "import lightgbm as lgb\n",
    "from dateutil.parser import parse\n",
    "from sklearn.cross_validation import KFold\n",
    "from sklearn.metrics import mean_squared_error"
   ]
  },
  {
   "cell_type": "code",
   "execution_count": 27,
   "metadata": {},
   "outputs": [],
   "source": [
    "train = pd.read_csv('train_change_add.csv')\n",
    "test = pd.read_csv('test_change_B.csv')"
   ]
  },
  {
   "cell_type": "code",
   "execution_count": 28,
   "metadata": {
    "scrolled": true
   },
   "outputs": [],
   "source": [
    "# ol = pd.read_csv('d_answer_b_20180130.csv', encoding='utf-8')"
   ]
  },
  {
   "cell_type": "code",
   "execution_count": null,
   "metadata": {},
   "outputs": [],
   "source": []
  }
 ],
 "metadata": {
  "kernelspec": {
   "display_name": "Python 3",
   "language": "python",
   "name": "python3"
  },
  "language_info": {
   "codemirror_mode": {
    "name": "ipython",
    "version": 3
   },
   "file_extension": ".py",
   "mimetype": "text/x-python",
   "name": "python",
   "nbconvert_exporter": "python",
   "pygments_lexer": "ipython3",
   "version": "3.7.0"
  }
 },
 "nbformat": 4,
 "nbformat_minor": 2
}
